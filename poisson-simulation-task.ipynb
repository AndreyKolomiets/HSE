{
 "cells": [
  {
   "cell_type": "code",
   "execution_count": 1,
   "metadata": {
    "collapsed": false
   },
   "outputs": [
    {
     "name": "stdout",
     "output_type": "stream",
     "text": [
      "Populating the interactive namespace from numpy and matplotlib\n"
     ]
    }
   ],
   "source": [
    "%pylab inline\n",
    "import numpy as np"
   ]
  },
  {
   "cell_type": "markdown",
   "metadata": {},
   "source": [
    "# Генерирование пуассоновских случайных процессов"
   ]
  },
  {
   "cell_type": "markdown",
   "metadata": {},
   "source": [
    "## 1. Однородный пуассоновский поток событий"
   ]
  },
  {
   "cell_type": "markdown",
   "metadata": {},
   "source": [
    "Однородный пуассоновский поток событий - это процесс, значение $N_t$ которого в момент $t$ равно числу событий, произошедших до момента $t$. \n",
    "\n",
    "Алгоритм генерирования реализации пуассоновского потока:\n",
    "\n",
    "* $t = 0, I = 0$\n",
    "\n",
    "* сгенерировать $U \\sim U[0, 1]$\n",
    "\n",
    "* обновить $t = t - \\log(U) / \\lambda$\n",
    "\n",
    "* пока $t < T$:\n",
    "\n",
    "  * обновить $I = I + 1, S(I) = t$\n",
    "  \n",
    "  * сгенерировать $U \\sim U[0, 1]$\n",
    "  \n",
    "  * обновить $t = t - \\log(U) / \\lambda$"
   ]
  },
  {
   "cell_type": "markdown",
   "metadata": {},
   "source": [
    "**Задание 1.** Сгенерировать траекторию пуассоновского потока $N_t$, алгоритм, приведенный выше."
   ]
  },
  {
   "cell_type": "code",
   "execution_count": 2,
   "metadata": {
    "collapsed": false
   },
   "outputs": [],
   "source": [
    "T = 1000\n",
    "intensity = 0.02  # process intensity (avg. events per time unit)\n",
    "t=0\n",
    "I=0\n",
    "t+=np.random.exponential(scale=1/intensity)\n",
    "S=[]\n",
    "while t<T:\n",
    "    I+=1\n",
    "    S.append(t)\n",
    "    t+=np.random.exponential(scale=1/intensity)\n",
    "### your code here \n",
    "### (generate S_n)"
   ]
  },
  {
   "cell_type": "code",
   "execution_count": 4,
   "metadata": {
    "collapsed": false
   },
   "outputs": [],
   "source": [
    "S = np.array(S)"
   ]
  },
  {
   "cell_type": "code",
   "execution_count": 5,
   "metadata": {
    "collapsed": true
   },
   "outputs": [],
   "source": [
    "### your code here \n",
    "### (generate N_t)\n",
    "N = np.zeros(1000)\n",
    "i = 0\n",
    "for t in range(1000):\n",
    "    N[t ] = np.sum(S<=t)"
   ]
  },
  {
   "cell_type": "code",
   "execution_count": 6,
   "metadata": {
    "collapsed": false
   },
   "outputs": [
    {
     "data": {
      "text/plain": [
       "[<matplotlib.lines.Line2D at 0x7c450b8>]"
      ]
     },
     "execution_count": 6,
     "metadata": {},
     "output_type": "execute_result"
    },
    {
     "data": {
      "image/png": "[encoded data removed]",
      "text/plain": [
       "<matplotlib.figure.Figure at 0x7ad0828>"
      ]
     },
     "metadata": {},
     "output_type": "display_data"
    }
   ],
   "source": [
    "### your code here \n",
    "### (plot N_t and events S)\n",
    "plot(N)"
   ]
  },
  {
   "cell_type": "markdown",
   "metadata": {},
   "source": [
    "## 2. Неоднородный пуассоновский поток событий"
   ]
  },
  {
   "cell_type": "markdown",
   "metadata": {},
   "source": [
    "Как мы видели, однородный поток событий определяется интенсивностью $\\lambda > 0$. Неоднородный пуассоновский поток событий - это процесс, значение $N_t$ которого в момент $t$ равно числу событий, произошедших до момента $t$, причем его интенсивность - это функция времени $\\lambda = \\lambda(t) > 0$, а не постоянная величина.\n",
    "\n",
    "На практике это означает следующую схему наблюдений. Рассмотрим *однородный* пуассоновский поток событий с интенсивностью $\\lambda$. Пусть событие, появляющееся в момент времени $t$ \"засчитывается\" с некоторой вероятностью $p(t)$, так что $N_t = N_{t-\\varepsilon} + 1$ с вероятностью $p(t)$, и $N_t = N_{t-\\varepsilon}$ с вероятностью $1 - p(t)$. Тогда $N_t$ - неоднородный пуассоновский поток событий с интенсивностью $\\lambda(t) = \\lambda p(t)$.\n",
    "\n",
    "Пусть требуется сгенерировать поток с заданной интенсивностью $\\lambda(t)$ и $\\lambda = \\max\\limits_{t\\in [0, T]} \\lambda(t)$. \n",
    "Алгоритм генерирования реализации неоднородного пуассоновского потока:\n",
    "\n",
    "* $t = 0, I = 0$\n",
    "\n",
    "* сгенерировать $U_1 \\sim U[0, 1]$\n",
    "\n",
    "* обновить $t = t - \\log(U_1) / \\lambda$\n",
    "\n",
    "* пока $t < T$:\n",
    "\n",
    "  * сгенерировать $U_2 \\sim U[0, 1]$\n",
    "  \n",
    "  * если $U_2 < \\lambda(t) / \\lambda$:\n",
    "  \n",
    "    * обновить $I = I + 1, S(I) = t$\n",
    "  \n",
    "  * сгенерировать $U_1 \\sim U[0, 1]$\n",
    "  \n",
    "  * обновить $t = t - \\log(U_1) / \\lambda$"
   ]
  },
  {
   "cell_type": "markdown",
   "metadata": {},
   "source": [
    "**Задание 2.** Сгенерировать траекторию неоднородного пуассоновского потока $N_t$ с интенсивностью $\\lambda(t) = \\sin (\\omega t)$, используя алгоритм, приведенный выше."
   ]
  },
  {
   "cell_type": "code",
   "execution_count": 51,
   "metadata": {
    "collapsed": true
   },
   "outputs": [],
   "source": [
    "T = # number of timestamps\n",
    "max_intensity = # process intensity (avg. events per time unit)\n",
    "\n",
    "### your code here \n",
    "### (generate S_n)"
   ]
  },
  {
   "cell_type": "code",
   "execution_count": 52,
   "metadata": {
    "collapsed": true
   },
   "outputs": [],
   "source": [
    "### your code here \n",
    "### (generate N_t)"
   ]
  },
  {
   "cell_type": "code",
   "execution_count": 4,
   "metadata": {
    "collapsed": true,
    "scrolled": false
   },
   "outputs": [],
   "source": [
    "### your code here \n",
    "### (plot N_t, events S and intensity lambda(t) - one below the other)"
   ]
  }
 ],
 "metadata": {
  "anaconda-cloud": {},
  "kernelspec": {
   "display_name": "Python [Root]",
   "language": "python",
   "name": "Python [Root]"
  },
  "language_info": {
   "codemirror_mode": {
    "name": "ipython",
    "version": 3
   },
   "file_extension": ".py",
   "mimetype": "text/x-python",
   "name": "python",
   "nbconvert_exporter": "python",
   "pygments_lexer": "ipython3",
   "version": "3.5.2"
  }
 },
 "nbformat": 4,
 "nbformat_minor": 1
}
